{
 "cells": [
  {
   "cell_type": "code",
   "execution_count": 1,
   "id": "2898c17b",
   "metadata": {},
   "outputs": [
    {
     "name": "stdout",
     "output_type": "stream",
     "text": [
      "Collecting markovify\n",
      "  Downloading markovify-0.9.4.tar.gz (27 kB)\n",
      "  Preparing metadata (setup.py): started\n",
      "  Preparing metadata (setup.py): finished with status 'done'\n",
      "Requirement already satisfied: unidecode in c:\\users\\pc\\anaconda3\\lib\\site-packages (from markovify) (1.2.0)\n",
      "Building wheels for collected packages: markovify\n",
      "  Building wheel for markovify (setup.py): started\n",
      "  Building wheel for markovify (setup.py): finished with status 'done'\n",
      "  Created wheel for markovify: filename=markovify-0.9.4-py3-none-any.whl size=18650 sha256=d212e3058b7dc4206f7979a13552b59d77777b346ae8b9ac000c8cdb833fab29\n",
      "  Stored in directory: c:\\users\\pc\\appdata\\local\\pip\\cache\\wheels\\9c\\20\\eb\\1a3fb93f3132f2f9683e4efd834800f80c53aeddf50e84ae80\n",
      "Successfully built markovify\n",
      "Installing collected packages: markovify\n",
      "Successfully installed markovify-0.9.4\n"
     ]
    }
   ],
   "source": [
    "!pip install markovify"
   ]
  },
  {
   "cell_type": "code",
   "execution_count": 2,
   "id": "2e225965",
   "metadata": {},
   "outputs": [],
   "source": [
    "\n",
    "import pandas as pd # data processing, CSV file I/O (e.g. pd.read_csv)\n",
    "import markovify #Markov Chain Generator"
   ]
  },
  {
   "cell_type": "code",
   "execution_count": 3,
   "id": "25ca47b7",
   "metadata": {},
   "outputs": [
    {
     "data": {
      "text/html": [
       "<div>\n",
       "<style scoped>\n",
       "    .dataframe tbody tr th:only-of-type {\n",
       "        vertical-align: middle;\n",
       "    }\n",
       "\n",
       "    .dataframe tbody tr th {\n",
       "        vertical-align: top;\n",
       "    }\n",
       "\n",
       "    .dataframe thead th {\n",
       "        text-align: right;\n",
       "    }\n",
       "</style>\n",
       "<table border=\"1\" class=\"dataframe\">\n",
       "  <thead>\n",
       "    <tr style=\"text-align: right;\">\n",
       "      <th></th>\n",
       "      <th>text</th>\n",
       "      <th>book</th>\n",
       "    </tr>\n",
       "  </thead>\n",
       "  <tbody>\n",
       "    <tr>\n",
       "      <th>0</th>\n",
       "      <td>nonce, all she could do was tell the merchants...</td>\n",
       "      <td>FC</td>\n",
       "    </tr>\n",
       "    <tr>\n",
       "      <th>1</th>\n",
       "      <td>The hard truths are the ones to hold tight.</td>\n",
       "      <td>GT</td>\n",
       "    </tr>\n",
       "    <tr>\n",
       "      <th>2</th>\n",
       "      <td>In the fierce heat of the south, he wore loose...</td>\n",
       "      <td>GT</td>\n",
       "    </tr>\n",
       "    <tr>\n",
       "      <th>3</th>\n",
       "      <td>most of it had gone already.</td>\n",
       "      <td>WW</td>\n",
       "    </tr>\n",
       "    <tr>\n",
       "      <th>4</th>\n",
       "      <td>Julian broke away from.</td>\n",
       "      <td>FD</td>\n",
       "    </tr>\n",
       "  </tbody>\n",
       "</table>\n",
       "</div>"
      ],
      "text/plain": [
       "                                                text book\n",
       "0  nonce, all she could do was tell the merchants...   FC\n",
       "1        The hard truths are the ones to hold tight.   GT\n",
       "2  In the fierce heat of the south, he wore loose...   GT\n",
       "3                       most of it had gone already.   WW\n",
       "4                            Julian broke away from.   FD"
      ]
     },
     "execution_count": 3,
     "metadata": {},
     "output_type": "execute_result"
    }
   ],
   "source": [
    "grrm = pd.read_csv('GRR_Martins_data.csv')\n",
    "\n",
    "grrm.head(5)"
   ]
  },
  {
   "cell_type": "code",
   "execution_count": 4,
   "id": "f34c4a51",
   "metadata": {},
   "outputs": [
    {
     "data": {
      "text/plain": [
       "48    Prudence and Prunella Celtigar were amongst th...\n",
       "39    for an instant in the wood  and Lord Leo’s own...\n",
       "61    and read “Sennacherib” and “She Walks in Beaut...\n",
       "23                                rip their heads off..\n",
       "63                              with him day and night.\n",
       "46       receive you … yet much of it remains in ruins.\n",
       "18                                     The other broke.\n",
       "77                                 much as Asha would..\n",
       "91                            He's a dwarf, ain't he?\".\n",
       "79    Squishing the poor little thing would have giv...\n",
       "Name: text, dtype: object"
      ]
     },
     "execution_count": 4,
     "metadata": {},
     "output_type": "execute_result"
    }
   ],
   "source": [
    "import random\n",
    "grrm.text[random.sample(range(100), 10)]"
   ]
  },
  {
   "cell_type": "code",
   "execution_count": 5,
   "id": "f694231a",
   "metadata": {},
   "outputs": [],
   "source": [
    "text_model = markovify.NewlineText(grrm.text, state_size = 2)"
   ]
  },
  {
   "cell_type": "code",
   "execution_count": 6,
   "id": "374c9c63",
   "metadata": {},
   "outputs": [
    {
     "name": "stdout",
     "output_type": "stream",
     "text": [
      "He stopped before a great horned owl, white on the cliffs.\n",
      "it had done what he could throw across the pool.\n",
      "Far as I’m concerned it’s the Weeper, and more about this time inside her skull with.\n",
      "This morning the puppeteers were doing and might even take you for a dragon.\n",
      "He had not prepared for battle.\n",
      "These slavers are no prince.\n",
      "venison from time to time Arya looked at the bars he pulled the turnip off her robe.. She bared herself in her rigging.\n",
      "wipe out an army had.\n",
      "One of her dragon, Maester Norren records, and.\n",
      "Septon Eustace goes so far as to topple over and.\n"
     ]
    }
   ],
   "source": [
    "# Print ten randomly-generated sentences using the built model\n",
    "for i in range(10):\n",
    "    print(text_model.make_sentence())"
   ]
  },
  {
   "cell_type": "code",
   "execution_count": 10,
   "id": "e89cc728",
   "metadata": {},
   "outputs": [],
   "source": [
    "#If we use different state size\n",
    "text_model1 = markovify.NewlineText(grrm.text, state_size = 3)\n",
    "text_model2 = markovify.NewlineText(grrm.text, state_size = 4)"
   ]
  },
  {
   "cell_type": "code",
   "execution_count": 11,
   "id": "b5179af0",
   "metadata": {},
   "outputs": [
    {
     "name": "stdout",
     "output_type": "stream",
     "text": [
      "Cersei knelt on the carpet, that.\n",
      "Stark, and so it came to that, Hotah.\n",
      "They were almost of a height with Dunk,.\n",
      "A film of ice had formed about the tangles in his hair, Arya raining.\n",
      "bier, beseeching the Father Above would help them in this hard hot desert?\n"
     ]
    }
   ],
   "source": [
    "for i in range(5):\n",
    "    print(text_model1.make_sentence())"
   ]
  },
  {
   "cell_type": "code",
   "execution_count": 13,
   "id": "3151f7f5",
   "metadata": {},
   "outputs": [
    {
     "name": "stdout",
     "output_type": "stream",
     "text": [
      "second son had been fostered on the Arbor, where he sampled some of that island’s.\n",
      "the top of the princeling’s helm, again and again and again, until only a red mash of blood.\n",
      "to the god of many faces, slipped out of her own dress and let.\n",
      "captains and the kings had come a long way to go in bad company.\n"
     ]
    }
   ],
   "source": [
    "# Print three randomly-generated sentences using the built model\n",
    "for i in range(10):\n",
    "    temp = text_model2.make_sentence()\n",
    "    if temp is not None: #escpaing None with this if condition as higher state markov model has generated more Nones\n",
    "        print(temp)\n",
    "   "
   ]
  },
  {
   "cell_type": "code",
   "execution_count": 14,
   "id": "d563088f",
   "metadata": {},
   "outputs": [
    {
     "name": "stdout",
     "output_type": "stream",
     "text": [
      "When she had nothing to share in the drawers, York’s vile-tasting drink in the.\n",
      "passed from hand to hand, it was so lovely that the gods you thought your Stark blood would freeze, Ramsay had hunted and hawked together too, and sometimes seeming to vanish in the kitchen on big steaming platters and fine poetic sentiments inscribed in stone.\n",
      "somehow the old man, wrinkled and black hair streaked with blood from the bar.\n",
      "Polliver rode beside him on the.\n",
      "queen, but I am not your land, Jon wanted to see how arrows were thrust into the sea, she.\n"
     ]
    }
   ],
   "source": [
    "text_model11 = markovify.NewlineText(grrm.text, state_size = 2)\n",
    "text_model12 = markovify.NewlineText(grrm.text, state_size = 2)\n",
    "model_combo = markovify.combine([ text_model11, text_model12 ], [ 1.5, 1 ])\n",
    "# Print three randomly-generated sentences using the built model\n",
    "for i in range(5):\n",
    "    print(model_combo.make_sentence())"
   ]
  },
  {
   "cell_type": "code",
   "execution_count": null,
   "id": "53e4bb8e",
   "metadata": {},
   "outputs": [],
   "source": []
  }
 ],
 "metadata": {
  "kernelspec": {
   "display_name": "Python 3 (ipykernel)",
   "language": "python",
   "name": "python3"
  },
  "language_info": {
   "codemirror_mode": {
    "name": "ipython",
    "version": 3
   },
   "file_extension": ".py",
   "mimetype": "text/x-python",
   "name": "python",
   "nbconvert_exporter": "python",
   "pygments_lexer": "ipython3",
   "version": "3.11.4"
  }
 },
 "nbformat": 4,
 "nbformat_minor": 5
}
