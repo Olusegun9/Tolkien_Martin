{
 "cells": [
  {
   "cell_type": "code",
   "execution_count": 1,
   "id": "2898c17b",
   "metadata": {},
   "outputs": [
    {
     "name": "stdout",
     "output_type": "stream",
     "text": [
      "Requirement already satisfied: markovify in c:\\users\\pc\\anaconda3\\lib\\site-packages (0.9.4)\n",
      "Requirement already satisfied: unidecode in c:\\users\\pc\\anaconda3\\lib\\site-packages (from markovify) (1.2.0)\n"
     ]
    }
   ],
   "source": [
    "!pip install markovify"
   ]
  },
  {
   "cell_type": "code",
   "execution_count": 2,
   "id": "2e225965",
   "metadata": {},
   "outputs": [],
   "source": [
    "\n",
    "import pandas as pd # data processing, CSV file I/O (e.g. pd.read_csv)\n",
    "import markovify #Markov Chain Generator"
   ]
  },
  {
   "cell_type": "code",
   "execution_count": 3,
   "id": "25ca47b7",
   "metadata": {},
   "outputs": [
    {
     "data": {
      "text/html": [
       "<div>\n",
       "<style scoped>\n",
       "    .dataframe tbody tr th:only-of-type {\n",
       "        vertical-align: middle;\n",
       "    }\n",
       "\n",
       "    .dataframe tbody tr th {\n",
       "        vertical-align: top;\n",
       "    }\n",
       "\n",
       "    .dataframe thead th {\n",
       "        text-align: right;\n",
       "    }\n",
       "</style>\n",
       "<table border=\"1\" class=\"dataframe\">\n",
       "  <thead>\n",
       "    <tr style=\"text-align: right;\">\n",
       "      <th></th>\n",
       "      <th>text</th>\n",
       "      <th>book</th>\n",
       "    </tr>\n",
       "  </thead>\n",
       "  <tbody>\n",
       "    <tr>\n",
       "      <th>0</th>\n",
       "      <td>Let‘s thrash the villain!.</td>\n",
       "      <td>HBB</td>\n",
       "    </tr>\n",
       "    <tr>\n",
       "      <th>1</th>\n",
       "      <td>they sent.</td>\n",
       "      <td>FGH</td>\n",
       "    </tr>\n",
       "    <tr>\n",
       "      <th>2</th>\n",
       "      <td>You know that.</td>\n",
       "      <td>TRK</td>\n",
       "    </tr>\n",
       "    <tr>\n",
       "      <th>3</th>\n",
       "      <td>measure to be a real maker, or hopes that he i...</td>\n",
       "      <td>OFS</td>\n",
       "    </tr>\n",
       "    <tr>\n",
       "      <th>4</th>\n",
       "      <td>Even.</td>\n",
       "      <td>TTT</td>\n",
       "    </tr>\n",
       "  </tbody>\n",
       "</table>\n",
       "</div>"
      ],
      "text/plain": [
       "                                                text book\n",
       "0                         Let‘s thrash the villain!.  HBB\n",
       "1                                         they sent.  FGH\n",
       "2                                     You know that.  TRK\n",
       "3  measure to be a real maker, or hopes that he i...  OFS\n",
       "4                                              Even.  TTT"
      ]
     },
     "execution_count": 3,
     "metadata": {},
     "output_type": "execute_result"
    }
   ],
   "source": [
    "jrrt = pd.read_csv('JRR_Tolkien_data.csv')\n",
    "\n",
    "jrrt.head(5)"
   ]
  },
  {
   "cell_type": "code",
   "execution_count": 4,
   "id": "f34c4a51",
   "metadata": {},
   "outputs": [
    {
     "data": {
      "text/plain": [
       "21                          In a minor way, of course;.\n",
       "68    After breakfast the doctor treated his sore ha...\n",
       "42    either hand he led them out of the room.. Thei...\n",
       "75                      mountains of – of yonder realm.\n",
       "19                                 \"Don't do me a harm!\n",
       "38    muttering and shaking.. About an hour after mi...\n",
       "35             his funeral ale without further trouble.\n",
       "91    THERE was a village once, not very long ago fo...\n",
       "58    Far more powerful and poignant is the effect i...\n",
       "99                                        ‘I have come.\n",
       "Name: text, dtype: object"
      ]
     },
     "execution_count": 4,
     "metadata": {},
     "output_type": "execute_result"
    }
   ],
   "source": [
    "import random\n",
    "jrrt.text[random.sample(range(100), 10)]"
   ]
  },
  {
   "cell_type": "code",
   "execution_count": 5,
   "id": "f694231a",
   "metadata": {},
   "outputs": [],
   "source": [
    "text_model = markovify.NewlineText(jrrt.text, state_size = 2)"
   ]
  },
  {
   "cell_type": "code",
   "execution_count": 6,
   "id": "374c9c63",
   "metadata": {},
   "outputs": [
    {
     "name": "stdout",
     "output_type": "stream",
     "text": [
      "There‘s food ahead and to the shadowy deﬁle beyond.\n",
      "standing with their feet.\n",
      "If you think it.\n",
      "for something; but he saw the little man called Niggle, who had walked unafraid in many ways as that is.\n",
      "Nell, to whom he gave the silver coin, and his eyes were mostly on Tim: a. rather plump little boy, clumsy in the Mountains in the Moon was drinking deep,.\n",
      "personalized thunder in the sea.\n",
      "way to the house of Augustus Bonifacius was not allowed to go back to leaning stone-rings,.\n",
      "wheeled and went from door to door, and never come back after!.\n",
      "The voice seemed strange,.\n",
      "to tell of these things have in this matter.\n"
     ]
    }
   ],
   "source": [
    "# Print ten randomly-generated sentences using the built model\n",
    "for i in range(10):\n",
    "    print(text_model.make_sentence())"
   ]
  },
  {
   "cell_type": "code",
   "execution_count": 7,
   "id": "e89cc728",
   "metadata": {},
   "outputs": [],
   "source": [
    "#If we use different state size\n",
    "text_model1 = markovify.NewlineText(jrrt.text, state_size = 3)\n",
    "text_model2 = markovify.NewlineText(jrrt.text, state_size = 4)"
   ]
  },
  {
   "cell_type": "code",
   "execution_count": 8,
   "id": "b5179af0",
   "metadata": {},
   "outputs": [
    {
     "name": "stdout",
     "output_type": "stream",
     "text": [
      "None\n",
      "14 also depends on the whole story in which they are at all remarkable.\n",
      "taboo once practised long ago, it has probably been preserved in the fairy-story precisely because it was larger.\n",
      "Plainly he saw that they were more beautiful and lively than they had been hours before.\n",
      "hunger, he suddenly understood that he had seen and learned.\n"
     ]
    }
   ],
   "source": [
    "for i in range(5):\n",
    "    print(text_model1.make_sentence())"
   ]
  },
  {
   "cell_type": "code",
   "execution_count": 9,
   "id": "3151f7f5",
   "metadata": {},
   "outputs": [],
   "source": [
    "# Print three randomly-generated sentences using the built model\n",
    "for i in range(10):\n",
    "    temp = text_model2.make_sentence()\n",
    "    if temp is not None: #escpaing None with this if condition as higher state markov model has generated more Nones\n",
    "        print(temp)\n",
    "   "
   ]
  },
  {
   "cell_type": "code",
   "execution_count": 10,
   "id": "d563088f",
   "metadata": {},
   "outputs": [
    {
     "name": "stdout",
     "output_type": "stream",
     "text": [
      "The blacksmith heard the whinny of a man who liked to see you.\n",
      "Still, he did not hurry with his foot, but it must have been tracked.\n",
      "They went out for a hundred years to his fireside.\n",
      "builders, too, only they take so long as going over all the hosts of Mordor.\n",
      "At the same order as the Shirefolk had of Gandalf’s: both were regarded.\n"
     ]
    }
   ],
   "source": [
    "text_model11 = markovify.NewlineText(jrrt.text, state_size = 2)\n",
    "text_model12 = markovify.NewlineText(jrrt.text, state_size = 2)\n",
    "model_combo = markovify.combine([ text_model11, text_model12 ], [ 1.5, 1 ])\n",
    "# Print three randomly-generated sentences using the built model\n",
    "for i in range(5):\n",
    "    print(model_combo.make_sentence())"
   ]
  },
  {
   "cell_type": "code",
   "execution_count": null,
   "id": "53e4bb8e",
   "metadata": {},
   "outputs": [],
   "source": []
  }
 ],
 "metadata": {
  "kernelspec": {
   "display_name": "Python 3 (ipykernel)",
   "language": "python",
   "name": "python3"
  },
  "language_info": {
   "codemirror_mode": {
    "name": "ipython",
    "version": 3
   },
   "file_extension": ".py",
   "mimetype": "text/x-python",
   "name": "python",
   "nbconvert_exporter": "python",
   "pygments_lexer": "ipython3",
   "version": "3.11.4"
  }
 },
 "nbformat": 4,
 "nbformat_minor": 5
}
